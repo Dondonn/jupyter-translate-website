{
  "cells": [
    {
      "cell_type": "markdown",
      "metadata": {
        "colab_type": "text",
        "id": "view-in-github"
      },
      "source": [
        "<a href=\"https://colab.research.google.com/github/WittmannF/jupyter-translate/blob/master/test_jupyter_translate.ipynb\" target=\"_parent\"><img src=\"https://colab.research.google.com/assets/colab-badge.svg\" alt=\"Open In Colab\"/></a>"
      ]
    },
    {
      "cell_type": "code",
      "execution_count": 1,
      "metadata": {},
      "outputs": [],
      "source": [
        "! conda activate jtranslate_test"
      ]
    },
    {
      "cell_type": "code",
      "execution_count": 2,
      "metadata": {
        "colab": {
          "base_uri": "https://localhost:8080/"
        },
        "id": "UZyxDrtX-xo_",
        "outputId": "a29a3a4f-321f-4e1c-cc07-8bbc6d6dd07a"
      },
      "outputs": [
        {
          "name": "stdout",
          "output_type": "stream",
          "text": [
            "Requirement already satisfied: googletrans==3.1.0a0 in c:\\users\\lg\\anaconda3\\envs\\jtranslate_test\\lib\\site-packages (3.1.0a0)\n",
            "Requirement already satisfied: httpx==0.13.3 in c:\\users\\lg\\anaconda3\\envs\\jtranslate_test\\lib\\site-packages (from googletrans==3.1.0a0) (0.13.3)\n",
            "Requirement already satisfied: certifi in c:\\users\\lg\\anaconda3\\envs\\jtranslate_test\\lib\\site-packages (from httpx==0.13.3->googletrans==3.1.0a0) (2024.2.2)\n",
            "Requirement already satisfied: hstspreload in c:\\users\\lg\\anaconda3\\envs\\jtranslate_test\\lib\\site-packages (from httpx==0.13.3->googletrans==3.1.0a0) (2024.3.1)\n",
            "Requirement already satisfied: sniffio in c:\\users\\lg\\anaconda3\\envs\\jtranslate_test\\lib\\site-packages (from httpx==0.13.3->googletrans==3.1.0a0) (1.3.1)\n",
            "Requirement already satisfied: chardet==3.* in c:\\users\\lg\\anaconda3\\envs\\jtranslate_test\\lib\\site-packages (from httpx==0.13.3->googletrans==3.1.0a0) (3.0.4)\n",
            "Requirement already satisfied: idna==2.* in c:\\users\\lg\\anaconda3\\envs\\jtranslate_test\\lib\\site-packages (from httpx==0.13.3->googletrans==3.1.0a0) (2.10)\n",
            "Requirement already satisfied: rfc3986<2,>=1.3 in c:\\users\\lg\\anaconda3\\envs\\jtranslate_test\\lib\\site-packages (from httpx==0.13.3->googletrans==3.1.0a0) (1.5.0)\n",
            "Requirement already satisfied: httpcore==0.9.* in c:\\users\\lg\\anaconda3\\envs\\jtranslate_test\\lib\\site-packages (from httpx==0.13.3->googletrans==3.1.0a0) (0.9.1)\n",
            "Requirement already satisfied: h11<0.10,>=0.8 in c:\\users\\lg\\anaconda3\\envs\\jtranslate_test\\lib\\site-packages (from httpcore==0.9.*->httpx==0.13.3->googletrans==3.1.0a0) (0.9.0)\n",
            "Requirement already satisfied: h2==3.* in c:\\users\\lg\\anaconda3\\envs\\jtranslate_test\\lib\\site-packages (from httpcore==0.9.*->httpx==0.13.3->googletrans==3.1.0a0) (3.2.0)\n",
            "Requirement already satisfied: hyperframe<6,>=5.2.0 in c:\\users\\lg\\anaconda3\\envs\\jtranslate_test\\lib\\site-packages (from h2==3.*->httpcore==0.9.*->httpx==0.13.3->googletrans==3.1.0a0) (5.2.0)\n",
            "Requirement already satisfied: hpack<4,>=3.0 in c:\\users\\lg\\anaconda3\\envs\\jtranslate_test\\lib\\site-packages (from h2==3.*->httpcore==0.9.*->httpx==0.13.3->googletrans==3.1.0a0) (3.0.0)\n"
          ]
        }
      ],
      "source": [
        "!pip install googletrans==3.1.0a0"
      ]
    },
    {
      "cell_type": "code",
      "execution_count": 3,
      "metadata": {
        "colab": {
          "base_uri": "https://localhost:8080/"
        },
        "id": "7Qbc4gXw-sY0",
        "outputId": "9fadf6a4-dc44-4bae-f730-906cd73b0ab2"
      },
      "outputs": [
        {
          "name": "stdout",
          "output_type": "stream",
          "text": [
            "Requirement already satisfied: fire in c:\\users\\lg\\anaconda3\\envs\\jtranslate_test\\lib\\site-packages (0.5.0)\n",
            "Requirement already satisfied: six in c:\\users\\lg\\anaconda3\\envs\\jtranslate_test\\lib\\site-packages (from fire) (1.16.0)\n",
            "Requirement already satisfied: termcolor in c:\\users\\lg\\anaconda3\\envs\\jtranslate_test\\lib\\site-packages (from fire) (2.4.0)\n"
          ]
        }
      ],
      "source": [
        "!pip install fire"
      ]
    },
    {
      "cell_type": "code",
      "execution_count": 4,
      "metadata": {
        "colab": {
          "base_uri": "https://localhost:8080/"
        },
        "id": "0T119A6d-UC6",
        "outputId": "9a60b9f4-f440-4542-ffbf-ef2dea66f1d1"
      },
      "outputs": [
        {
          "name": "stderr",
          "output_type": "stream",
          "text": [
            "'wget' is not recognized as an internal or external command,\n",
            "operable program or batch file.\n"
          ]
        }
      ],
      "source": [
        "!wget https://raw.githubusercontent.com/WittmannF/jupyter-translate/master/jupyter_translate.py"
      ]
    },
    {
      "cell_type": "code",
      "execution_count": 2,
      "metadata": {
        "colab": {
          "base_uri": "https://localhost:8080/"
        },
        "id": "Ljddrx-w-XMX",
        "outputId": "4add0cd5-49fd-479c-95fb-f8b9721c4781"
      },
      "outputs": [
        {
          "name": "stdout",
          "output_type": "stream",
          "text": [
            "--2022-05-30 21:58:14--  https://raw.githubusercontent.com/fastai/fastbook/master/01_intro.ipynb\n",
            "Resolving raw.githubusercontent.com (raw.githubusercontent.com)... 185.199.108.133, 185.199.109.133, 185.199.110.133, ...\n",
            "Connecting to raw.githubusercontent.com (raw.githubusercontent.com)|185.199.108.133|:443... connected.\n",
            "HTTP request sent, awaiting response... 200 OK\n",
            "Length: 364214 (356K) [text/plain]\n",
            "Saving to: ‘01_intro.ipynb’\n",
            "\n",
            "\r01_intro.ipynb        0%[                    ]       0  --.-KB/s               \r01_intro.ipynb      100%[===================>] 355.68K  --.-KB/s    in 0.03s   \n",
            "\n",
            "2022-05-30 21:58:14 (9.97 MB/s) - ‘01_intro.ipynb’ saved [364214/364214]\n",
            "\n"
          ]
        }
      ],
      "source": [
        "!wget https://raw.githubusercontent.com/fastai/fastbook/master/01_intro.ipynb"
      ]
    },
    {
      "cell_type": "code",
      "execution_count": 5,
      "metadata": {
        "colab": {
          "base_uri": "https://localhost:8080/"
        },
        "id": "LaIWSD9q-geN",
        "outputId": "a00a6870-acc8-4a6a-9cc2-bde4c1bb767b"
      },
      "outputs": [
        {
          "name": "stdout",
          "output_type": "stream",
          "text": [
            "The pt translation has been saved as tempDir/01_intro_pt.ipynb\n"
          ]
        },
        {
          "name": "stderr",
          "output_type": "stream",
          "text": [
            "d:\\d_drive\\vc_projects\\jupyter-translate-website\\jupyter_translate.py:7: SyntaxWarning: invalid escape sequence '\\s'\n",
            "  MD_CODE_REGEX='```[a-z]*\\n[\\s\\S]*?\\n```'\n",
            "d:\\d_drive\\vc_projects\\jupyter-translate-website\\jupyter_translate.py:10: SyntaxWarning: invalid escape sequence '\\['\n",
            "  MD_LINK_REGEX=\"\\[[^)]+\\)\"\n"
          ]
        }
      ],
      "source": [
        "!python jupyter_translate.py tempDir/01_intro.ipynb --language 'pt'"
      ]
    },
    {
      "cell_type": "code",
      "execution_count": null,
      "metadata": {
        "id": "AFHq4tYE-lNh"
      },
      "outputs": [],
      "source": []
    }
  ],
  "metadata": {
    "colab": {
      "authorship_tag": "ABX9TyNmJrk6Lewc0U9cq71mG4fE",
      "include_colab_link": true,
      "name": "test_jupyter_translate.ipynb",
      "provenance": []
    },
    "kernelspec": {
      "display_name": "Python 3",
      "name": "python3"
    },
    "language_info": {
      "codemirror_mode": {
        "name": "ipython",
        "version": 3
      },
      "file_extension": ".py",
      "mimetype": "text/x-python",
      "name": "python",
      "nbconvert_exporter": "python",
      "pygments_lexer": "ipython3",
      "version": "3.12.2"
    }
  },
  "nbformat": 4,
  "nbformat_minor": 0
}
